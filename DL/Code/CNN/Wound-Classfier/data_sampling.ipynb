{
 "cells": [
  {
   "cell_type": "code",
   "execution_count": 6,
   "id": "d910408a",
   "metadata": {},
   "outputs": [
    {
     "name": "stdout",
     "output_type": "stream",
     "text": [
      "['abrasions (1).jpg', 'abrasions (10).jpg', 'abrasions (11).jpg', 'abrasions (12).jpg', 'abrasions (13).jpg', 'abrasions (14).jpg', 'abrasions (15).jpg', 'abrasions (16).jpg', 'abrasions (17).jpg', 'abrasions (18).jpg', 'abrasions (19).jpg', 'abrasions (2).jpg', 'abrasions (20).jpg', 'abrasions (22).jpg', 'abrasions (23).jpg', 'abrasions (24).jpg', 'abrasions (25).jpg', 'abrasions (26).jpg', 'abrasions (27).jpg', 'abrasions (28).jpg', 'abrasions (29).jpg', 'abrasions (3).jpg', 'abrasions (30).jpg', 'abrasions (31).jpg', 'abrasions (32).jpg', 'abrasions (33).jpg', 'abrasions (34).jpg', 'abrasions (35).jpg', 'abrasions (36).jpg', 'abrasions (37).jpg', 'abrasions (38).jpg', 'abrasions (39).jpg', 'abrasions (4).jpg', 'abrasions (40).jpg', 'abrasions (41).jpg', 'abrasions (42).jpg', 'abrasions (43).jpg', 'abrasions (44).jpg', 'abrasions (45).jpg', 'abrasions (46).jpg', 'abrasions (47).jpg', 'abrasions (48).jpg', 'abrasions (49).jpg', 'abrasions (5).jpg', 'abrasions (50).jpg', 'abrasions (51).jpg', 'abrasions (52).jpg', 'abrasions (53).jpg', 'abrasions (54).jpg', 'abrasions (55).jpg', 'abrasions (56).jpg', 'abrasions (57).jpg', 'abrasions (58).jpg', 'abrasions (59).jpg', 'abrasions (6).jpg', 'abrasions (60).jpg', 'abrasions (63).jpg', 'abrasions (64).jpg', 'abrasions (65).jpg', 'abrasions (66).jpg', 'abrasions (67).jpg', 'abrasions (68).jpg', 'abrasions (69).jpg', 'abrasions (7).jpg', 'abrasions (70).jpg', 'abrasions (71).jpg', 'abrasions (72).jpg', 'abrasions (73).jpg', 'abrasions (74).jpg', 'abrasions (75).jpg', 'abrasions (76).jpg', 'abrasions (77).jpg', 'abrasions (78).jpg', 'abrasions (79).jpg', 'abrasions (8).jpg', 'abrasions (80).jpg', 'abrasions (81).jpg', 'abrasions (82).jpg', 'abrasions (83).jpg', 'abrasions (84).jpg', 'abrasions (85).jpg', 'abrasions (9).jpg', 'mirrored_abrasions (1).jpg', 'mirrored_abrasions (10).jpg', 'mirrored_abrasions (11).jpg', 'mirrored_abrasions (12).jpg', 'mirrored_abrasions (13).jpg', 'mirrored_abrasions (14).jpg', 'mirrored_abrasions (15).jpg', 'mirrored_abrasions (16).jpg', 'mirrored_abrasions (17).jpg', 'mirrored_abrasions (18).jpg', 'mirrored_abrasions (19).jpg', 'mirrored_abrasions (2).jpg', 'mirrored_abrasions (20).jpg', 'mirrored_abrasions (22).jpg', 'mirrored_abrasions (23).jpg', 'mirrored_abrasions (24).jpg', 'mirrored_abrasions (25).jpg', 'mirrored_abrasions (26).jpg', 'mirrored_abrasions (27).jpg', 'mirrored_abrasions (28).jpg', 'mirrored_abrasions (29).jpg', 'mirrored_abrasions (3).jpg', 'mirrored_abrasions (30).jpg', 'mirrored_abrasions (31).jpg', 'mirrored_abrasions (32).jpg', 'mirrored_abrasions (33).jpg', 'mirrored_abrasions (34).jpg', 'mirrored_abrasions (35).jpg', 'mirrored_abrasions (36).jpg', 'mirrored_abrasions (37).jpg', 'mirrored_abrasions (38).jpg', 'mirrored_abrasions (39).jpg', 'mirrored_abrasions (4).jpg', 'mirrored_abrasions (40).jpg', 'mirrored_abrasions (41).jpg', 'mirrored_abrasions (42).jpg', 'mirrored_abrasions (43).jpg', 'mirrored_abrasions (44).jpg', 'mirrored_abrasions (45).jpg', 'mirrored_abrasions (46).jpg', 'mirrored_abrasions (47).jpg', 'mirrored_abrasions (48).jpg', 'mirrored_abrasions (49).jpg', 'mirrored_abrasions (5).jpg', 'mirrored_abrasions (50).jpg', 'mirrored_abrasions (51).jpg', 'mirrored_abrasions (52).jpg', 'mirrored_abrasions (53).jpg', 'mirrored_abrasions (54).jpg', 'mirrored_abrasions (55).jpg', 'mirrored_abrasions (56).jpg', 'mirrored_abrasions (57).jpg', 'mirrored_abrasions (58).jpg', 'mirrored_abrasions (59).jpg', 'mirrored_abrasions (6).jpg', 'mirrored_abrasions (60).jpg', 'mirrored_abrasions (63).jpg', 'mirrored_abrasions (64).jpg', 'mirrored_abrasions (65).jpg', 'mirrored_abrasions (66).jpg', 'mirrored_abrasions (67).jpg', 'mirrored_abrasions (68).jpg', 'mirrored_abrasions (69).jpg', 'mirrored_abrasions (7).jpg', 'mirrored_abrasions (70).jpg', 'mirrored_abrasions (71).jpg', 'mirrored_abrasions (72).jpg', 'mirrored_abrasions (73).jpg', 'mirrored_abrasions (74).jpg', 'mirrored_abrasions (75).jpg', 'mirrored_abrasions (76).jpg', 'mirrored_abrasions (77).jpg', 'mirrored_abrasions (78).jpg', 'mirrored_abrasions (79).jpg', 'mirrored_abrasions (8).jpg', 'mirrored_abrasions (80).jpg', 'mirrored_abrasions (81).jpg', 'mirrored_abrasions (82).jpg', 'mirrored_abrasions (83).jpg', 'mirrored_abrasions (84).jpg', 'mirrored_abrasions (85).jpg', 'mirrored_abrasions (9).jpg']\n"
     ]
    }
   ],
   "source": [
    "import os\n",
    "import random\n",
    "from PIL import Image\n",
    "\n",
    "# Function to perform image flip\n",
    "def flip_image(image):\n",
    "    return image.transpose(Image.FLIP_LEFT_RIGHT)\n",
    "\n",
    "# Function to perform image rotation\n",
    "def rotate_image(image, angle):\n",
    "    return image.rotate(angle)\n",
    "\n",
    "# directory , file_count\n",
    "# 'Abrasions', 100 \n",
    "# 'Bruises', 50\n",
    "# 'Burns', 100 \n",
    "# 'Cut', 100 \n",
    "# 'Laseration', 100\n",
    "# 'Normal' 100\n",
    "# Directory path\n",
    "directory =r\"C:\\Users\\91956\\OneDrive\\DATA-SCIENCE-NARESHIT-OMKAR\\GITHUB\\re-arrange\\Wound-Classfier\\WoundDataset\\Abrasions\"\n",
    "\n",
    "# Number of files to select\n",
    "file_count = 100\n",
    "\n",
    "# Get list of files in directory\n",
    "files = os.listdir(directory)\n",
    "print(files)\n",
    "\n",
    "# Randomly select files\n",
    "selected_files = random.sample(files, file_count)\n",
    "\n",
    "# Iterate over selected files\n",
    "for file_name in selected_files:\n",
    "    # Load image\n",
    "    image_path = os.path.join(directory, file_name)\n",
    "    image = Image.open(image_path)\n",
    "    \n",
    "    # Perform flip\n",
    "    #flipped_image = flip_image(image)\n",
    "    #flipped_image.save(os.path.join(directory, f\"flipped_{file_name}\"))\n",
    "    \n",
    "    # Perform rotations (e.g., 90, 180, 270 degrees)\n",
    "    for angle in [90, 270]:\n",
    "        rotated_image = rotate_image(image, angle)\n",
    "        rotated_image.save(os.path.join(directory, f\"rotated_{angle}_{file_name}\"))\n"
   ]
  },
  {
   "cell_type": "code",
   "execution_count": null,
   "id": "2eb64198",
   "metadata": {},
   "outputs": [],
   "source": []
  }
 ],
 "metadata": {
  "kernelspec": {
   "display_name": "Python 3 (ipykernel)",
   "language": "python",
   "name": "python3"
  },
  "language_info": {
   "codemirror_mode": {
    "name": "ipython",
    "version": 3
   },
   "file_extension": ".py",
   "mimetype": "text/x-python",
   "name": "python",
   "nbconvert_exporter": "python",
   "pygments_lexer": "ipython3",
   "version": "3.11.5"
  }
 },
 "nbformat": 4,
 "nbformat_minor": 5
}
