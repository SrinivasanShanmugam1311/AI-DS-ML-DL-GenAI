{
 "cells": [
  {
   "cell_type": "markdown",
   "id": "eceaf686",
   "metadata": {},
   "source": [
    "# Objective : Regression-NLP\n",
    "\n",
    "# Exploratory Data Analysis (EDA) - Python\n",
    "\n",
    "# Insights - Patterns\n",
    "\n",
    "# Regression (Using the ML)"
   ]
  },
  {
   "cell_type": "markdown",
   "id": "3bf4225e",
   "metadata": {},
   "source": [
    "# 1. Load Python Modules"
   ]
  },
  {
   "cell_type": "code",
   "execution_count": 22,
   "id": "54f8d7a3",
   "metadata": {},
   "outputs": [
    {
     "name": "stderr",
     "output_type": "stream",
     "text": [
      "[nltk_data] Downloading package punkt to\n",
      "[nltk_data]     C:\\Users\\srishanm\\AppData\\Roaming\\nltk_data...\n",
      "[nltk_data]   Package punkt is already up-to-date!\n",
      "[nltk_data] Downloading package stopwords to\n",
      "[nltk_data]     C:\\Users\\srishanm\\AppData\\Roaming\\nltk_data...\n",
      "[nltk_data]   Package stopwords is already up-to-date!\n"
     ]
    }
   ],
   "source": [
    "import pandas as pd\n",
    "import numpy as np\n",
    "import matplotlib.pyplot as plt\n",
    "import seaborn as sns\n",
    "\n",
    "from sklearn.pipeline import Pipeline\n",
    "from tabulate import tabulate\n",
    "\n",
    "from sklearn.linear_model import LinearRegression,Lasso, Ridge,ElasticNet\n",
    "\n",
    "from sklearn.tree import DecisionTreeRegressor\n",
    "from sklearn.ensemble import RandomForestRegressor\n",
    "from sklearn.svm import SVR\n",
    "from sklearn.ensemble import AdaBoostRegressor\n",
    "from sklearn.ensemble import GradientBoostingRegressor\n",
    "import xgboost as xgb\n",
    "\n",
    "#from sklearn.metrics import mean_squared_error,root_mean_squared_error\n",
    "from sklearn.metrics import mean_squared_error\n",
    "from sklearn.metrics import r2_score\n",
    "\n",
    "from sklearn.model_selection import train_test_split\n",
    "from sklearn.feature_extraction.text import CountVectorizer\n",
    "from sklearn.metrics import accuracy_score\n",
    "\n",
    "import nltk\n",
    "from nltk.corpus import stopwords\n",
    "nltk.download('punkt')\n",
    "nltk.download('stopwords')\n",
    "from nltk.tokenize import word_tokenize, sent_tokenize"
   ]
  },
  {
   "cell_type": "markdown",
   "id": "c3846d58",
   "metadata": {},
   "source": [
    "# 2. Read the Dataset from CSV file  - Using Pandas"
   ]
  },
  {
   "cell_type": "code",
   "execution_count": 23,
   "id": "e8912b1f",
   "metadata": {},
   "outputs": [
    {
     "data": {
      "text/html": [
       "<div>\n",
       "<style scoped>\n",
       "    .dataframe tbody tr th:only-of-type {\n",
       "        vertical-align: middle;\n",
       "    }\n",
       "\n",
       "    .dataframe tbody tr th {\n",
       "        vertical-align: top;\n",
       "    }\n",
       "\n",
       "    .dataframe thead th {\n",
       "        text-align: right;\n",
       "    }\n",
       "</style>\n",
       "<table border=\"1\" class=\"dataframe\">\n",
       "  <thead>\n",
       "    <tr style=\"text-align: right;\">\n",
       "      <th></th>\n",
       "      <th>breast_cancer_diagnosis_desc</th>\n",
       "      <th>metastatic_diagnosis_period</th>\n",
       "    </tr>\n",
       "  </thead>\n",
       "  <tbody>\n",
       "    <tr>\n",
       "      <th>0</th>\n",
       "      <td>Malignant neoplasm of unspecified site of left...</td>\n",
       "      <td>191</td>\n",
       "    </tr>\n",
       "    <tr>\n",
       "      <th>1</th>\n",
       "      <td>Malig neoplasm of upper-outer quadrant of left...</td>\n",
       "      <td>33</td>\n",
       "    </tr>\n",
       "    <tr>\n",
       "      <th>2</th>\n",
       "      <td>Malignant neoplasm of breast (female), unspeci...</td>\n",
       "      <td>157</td>\n",
       "    </tr>\n",
       "    <tr>\n",
       "      <th>3</th>\n",
       "      <td>Malignant neoplasm of unsp site of right femal...</td>\n",
       "      <td>146</td>\n",
       "    </tr>\n",
       "    <tr>\n",
       "      <th>4</th>\n",
       "      <td>Malignant neoplasm of other specified sites of...</td>\n",
       "      <td>286</td>\n",
       "    </tr>\n",
       "  </tbody>\n",
       "</table>\n",
       "</div>"
      ],
      "text/plain": [
       "                        breast_cancer_diagnosis_desc  \\\n",
       "0  Malignant neoplasm of unspecified site of left...   \n",
       "1  Malig neoplasm of upper-outer quadrant of left...   \n",
       "2  Malignant neoplasm of breast (female), unspeci...   \n",
       "3  Malignant neoplasm of unsp site of right femal...   \n",
       "4  Malignant neoplasm of other specified sites of...   \n",
       "\n",
       "   metastatic_diagnosis_period  \n",
       "0                          191  \n",
       "1                           33  \n",
       "2                          157  \n",
       "3                          146  \n",
       "4                          286  "
      ]
     },
     "execution_count": 23,
     "metadata": {},
     "output_type": "execute_result"
    }
   ],
   "source": [
    "file_path=r\"train.csv\"\n",
    "df = pd.read_csv(file_path)\n",
    "df.head()"
   ]
  },
  {
   "cell_type": "markdown",
   "id": "8b4e061a",
   "metadata": {},
   "source": [
    "# 3. Basic Inspection on given dataset"
   ]
  },
  {
   "cell_type": "code",
   "execution_count": 24,
   "id": "cb2295c0",
   "metadata": {},
   "outputs": [
    {
     "name": "stdout",
     "output_type": "stream",
     "text": [
      "Top 5 Records of dataset\n",
      "                        breast_cancer_diagnosis_desc  \\\n",
      "0  Malignant neoplasm of unspecified site of left...   \n",
      "1  Malig neoplasm of upper-outer quadrant of left...   \n",
      "2  Malignant neoplasm of breast (female), unspeci...   \n",
      "3  Malignant neoplasm of unsp site of right femal...   \n",
      "4  Malignant neoplasm of other specified sites of...   \n",
      "\n",
      "   metastatic_diagnosis_period  \n",
      "0                          191  \n",
      "1                           33  \n",
      "2                          157  \n",
      "3                          146  \n",
      "4                          286  \n",
      "\n",
      "Bottom Records of dataset\n",
      "                            breast_cancer_diagnosis_desc  \\\n",
      "13168  Malignant neoplasm of unsp site of right femal...   \n",
      "13169  Malignant neoplasm of breast (female), unspeci...   \n",
      "13170  Malignant neoplasm of ovrlp sites of unsp fema...   \n",
      "13171  Malignant neoplasm of upper-inner quadrant of ...   \n",
      "13172  Malignant neoplasm of unsp site of right femal...   \n",
      "\n",
      "       metastatic_diagnosis_period  \n",
      "13168                          106  \n",
      "13169                           92  \n",
      "13170                            0  \n",
      "13171                          330  \n",
      "13172                            0  \n",
      "\n",
      "Column/features/Variable  - Names of Given dataset\n",
      "Index(['breast_cancer_diagnosis_desc', 'metastatic_diagnosis_period'], dtype='object')\n",
      "\n",
      "Shape(rows x columns) - of Given dataset\n",
      "(13173, 2)\n",
      "\n",
      "Data types - Given Column Names\n",
      "breast_cancer_diagnosis_desc    object\n",
      "metastatic_diagnosis_period      int64\n",
      "dtype: object\n",
      "\n",
      "Summry of dataset\n",
      "<class 'pandas.core.frame.DataFrame'>\n",
      "RangeIndex: 13173 entries, 0 to 13172\n",
      "Data columns (total 2 columns):\n",
      " #   Column                        Non-Null Count  Dtype \n",
      "---  ------                        --------------  ----- \n",
      " 0   breast_cancer_diagnosis_desc  13173 non-null  object\n",
      " 1   metastatic_diagnosis_period   13173 non-null  int64 \n",
      "dtypes: int64(1), object(1)\n",
      "memory usage: 206.0+ KB\n",
      "None\n",
      "\n",
      "To see the count of null/nan values in columns of dataset\n",
      "breast_cancer_diagnosis_desc  metastatic_diagnosis_period\n",
      "False                         False                          13173\n",
      "Name: count, dtype: int64\n",
      "\n",
      "Dataset Summary \n",
      "       metastatic_diagnosis_period\n",
      "count                 13173.000000\n",
      "mean                     96.515221\n",
      "std                     108.969873\n",
      "min                       0.000000\n",
      "25%                       3.000000\n",
      "50%                      44.000000\n",
      "75%                     181.000000\n",
      "max                     365.000000\n",
      "\n"
     ]
    }
   ],
   "source": [
    "def basic_inspection_text_dataset(table):\n",
    "    print(\"Top 5 Records of dataset\")\n",
    "    print(table.head())\n",
    "    print()\n",
    "        \n",
    "    print(\"Bottom Records of dataset\")\n",
    "    print(table.tail())\n",
    "    print()\n",
    "    \n",
    "    print(\"Column/features/Variable  - Names of Given dataset\")\n",
    "    print(table.columns)\n",
    "    print()\n",
    "    \n",
    "    print(\"Shape(rows x columns) - of Given dataset\")\n",
    "    print(table.shape)\n",
    "    print()\n",
    "    \n",
    "    print(\"Data types - Given Column Names\")\n",
    "    print(table.dtypes)\n",
    "    print()\n",
    "    \n",
    "    print(\"Summry of dataset\")\n",
    "    print(table.info())\n",
    "    print()\n",
    "    \n",
    "    print(\"To see the count of null/nan values in columns of dataset\")\n",
    "    print(table.isnull().value_counts())\n",
    "    print()\n",
    "    \n",
    "    print(\"Dataset Summary \")\n",
    "    print(table.describe())\n",
    "    print()\n",
    "    \n",
    "basic_inspection_text_dataset(df)"
   ]
  },
  {
   "cell_type": "markdown",
   "id": "e0c4b952",
   "metadata": {},
   "source": [
    "# 4. Dataset - Understanding"
   ]
  },
  {
   "cell_type": "code",
   "execution_count": 25,
   "id": "6b665e00",
   "metadata": {},
   "outputs": [
    {
     "data": {
      "text/plain": [
       "(13173, 2)"
      ]
     },
     "execution_count": 25,
     "metadata": {},
     "output_type": "execute_result"
    }
   ],
   "source": [
    "df.shape"
   ]
  },
  {
   "cell_type": "markdown",
   "id": "66b57054",
   "metadata": {},
   "source": [
    "# 5. Create bag of words representation using CountVectorizer"
   ]
  },
  {
   "cell_type": "code",
   "execution_count": 26,
   "id": "34bee11e",
   "metadata": {},
   "outputs": [],
   "source": [
    "def pre_processing(text):\n",
    "    words =  word_tokenize(text) \n",
    "    eng_stopwords=stopwords.words(\"english\")\n",
    "    tokens = [word for word in words if word.isalnum()]\n",
    "    lower_tokens = [word.lower() for word in tokens ]\n",
    "\n",
    "    no_punctuations_stopwords_tokens = [token for  token in lower_tokens if token not in eng_stopwords]\n",
    "    return \" \".join(no_punctuations_stopwords_tokens)"
   ]
  },
  {
   "cell_type": "code",
   "execution_count": 27,
   "id": "f8e36554",
   "metadata": {},
   "outputs": [],
   "source": [
    "v = CountVectorizer()\n",
    "df[\"processed_Message\"]=df[\"breast_cancer_diagnosis_desc\"].apply(pre_processing)\n",
    "X_Message_cv = v.fit_transform(df[\"processed_Message\"])"
   ]
  },
  {
   "cell_type": "code",
   "execution_count": null,
   "id": "98e2d301",
   "metadata": {},
   "outputs": [],
   "source": []
  },
  {
   "cell_type": "markdown",
   "id": "c14da82f",
   "metadata": {},
   "source": [
    "# 6. Train test split"
   ]
  },
  {
   "cell_type": "code",
   "execution_count": 28,
   "id": "55c57d7e",
   "metadata": {},
   "outputs": [],
   "source": [
    "X_train, X_test, y_train, y_test = train_test_split(X_Message_cv, df['metastatic_diagnosis_period'] , test_size=0.2,random_state=42)"
   ]
  },
  {
   "cell_type": "code",
   "execution_count": 29,
   "id": "0c434635",
   "metadata": {},
   "outputs": [
    {
     "data": {
      "text/plain": [
       "(10538, 24)"
      ]
     },
     "execution_count": 29,
     "metadata": {},
     "output_type": "execute_result"
    }
   ],
   "source": [
    "X_train.shape"
   ]
  },
  {
   "cell_type": "code",
   "execution_count": 30,
   "id": "0322e41b",
   "metadata": {},
   "outputs": [
    {
     "data": {
      "text/plain": [
       "(2635, 24)"
      ]
     },
     "execution_count": 30,
     "metadata": {},
     "output_type": "execute_result"
    }
   ],
   "source": [
    "X_test.shape"
   ]
  },
  {
   "cell_type": "code",
   "execution_count": 31,
   "id": "2b8afdd0",
   "metadata": {},
   "outputs": [
    {
     "data": {
      "text/plain": [
       "scipy.sparse._csr.csr_matrix"
      ]
     },
     "execution_count": 31,
     "metadata": {},
     "output_type": "execute_result"
    }
   ],
   "source": [
    "type(X_train)"
   ]
  },
  {
   "cell_type": "code",
   "execution_count": 32,
   "id": "425d18a6",
   "metadata": {},
   "outputs": [
    {
     "data": {
      "text/plain": [
       "pandas.core.series.Series"
      ]
     },
     "execution_count": 32,
     "metadata": {},
     "output_type": "execute_result"
    }
   ],
   "source": [
    "type(y_train)"
   ]
  },
  {
   "cell_type": "code",
   "execution_count": 33,
   "id": "0a441180",
   "metadata": {},
   "outputs": [
    {
     "data": {
      "text/plain": [
       "5363    212\n",
       "7974     22\n",
       "8019    109\n",
       "9975     34\n",
       "Name: metastatic_diagnosis_period, dtype: int64"
      ]
     },
     "execution_count": 33,
     "metadata": {},
     "output_type": "execute_result"
    }
   ],
   "source": [
    "y_train[:4]"
   ]
  },
  {
   "cell_type": "code",
   "execution_count": 34,
   "id": "12f55cc1",
   "metadata": {},
   "outputs": [
    {
     "data": {
      "text/plain": [
       "array(['areola', 'axillary', 'breast', 'central', 'female', 'left',\n",
       "       'male', 'malig', 'malignant', 'neoplasm', 'neoplm', 'nipple',\n",
       "       'overlapping', 'ovrlp', 'portion', 'quadrant', 'right',\n",
       "       'secondary', 'site', 'sites', 'specified', 'tail', 'unsp',\n",
       "       'unspecified'], dtype=object)"
      ]
     },
     "execution_count": 34,
     "metadata": {},
     "output_type": "execute_result"
    }
   ],
   "source": [
    "v.get_feature_names_out()"
   ]
  },
  {
   "cell_type": "code",
   "execution_count": 35,
   "id": "7ed0a094",
   "metadata": {},
   "outputs": [
    {
     "data": {
      "text/plain": [
       "{'malignant': 8,\n",
       " 'neoplasm': 9,\n",
       " 'unspecified': 23,\n",
       " 'site': 18,\n",
       " 'left': 5,\n",
       " 'female': 4,\n",
       " 'breast': 2,\n",
       " 'malig': 7,\n",
       " 'quadrant': 15,\n",
       " 'unsp': 22,\n",
       " 'right': 16,\n",
       " 'specified': 20,\n",
       " 'sites': 19,\n",
       " 'neoplm': 10,\n",
       " 'ovrlp': 13,\n",
       " 'nipple': 11,\n",
       " 'areola': 0,\n",
       " 'central': 3,\n",
       " 'portion': 14,\n",
       " 'secondary': 17,\n",
       " 'axillary': 1,\n",
       " 'tail': 21,\n",
       " 'male': 6,\n",
       " 'overlapping': 12}"
      ]
     },
     "execution_count": 35,
     "metadata": {},
     "output_type": "execute_result"
    }
   ],
   "source": [
    "v.vocabulary_"
   ]
  },
  {
   "cell_type": "code",
   "execution_count": 36,
   "id": "a805af1f",
   "metadata": {},
   "outputs": [
    {
     "data": {
      "text/plain": [
       "array([0, 1, 1, 0, 1, 1, 0, 0, 1, 1, 0, 0, 0, 0, 0, 0, 0, 0, 0, 0, 0, 1,\n",
       "       0, 0], dtype=int64)"
      ]
     },
     "execution_count": 36,
     "metadata": {},
     "output_type": "execute_result"
    }
   ],
   "source": [
    "X_train_np = X_train.toarray()\n",
    "X_train_np[0]"
   ]
  },
  {
   "cell_type": "code",
   "execution_count": 37,
   "id": "79aa94f4",
   "metadata": {},
   "outputs": [
    {
     "data": {
      "text/plain": [
       "(array([ 1,  2,  4,  5,  8,  9, 21], dtype=int64),)"
      ]
     },
     "execution_count": 37,
     "metadata": {},
     "output_type": "execute_result"
    }
   ],
   "source": [
    "np.where(X_train_np[0]!=0)"
   ]
  },
  {
   "cell_type": "markdown",
   "id": "e6ea444a",
   "metadata": {},
   "source": [
    "## 7. Train  model"
   ]
  },
  {
   "cell_type": "code",
   "execution_count": 38,
   "id": "113b6233",
   "metadata": {},
   "outputs": [],
   "source": [
    "def adjusted_r_squared(y_true, y_pred, n_samples, n_features):\n",
    "    \"\"\"\n",
    "    Calculate the adjusted R-squared score.\n",
    "\n",
    "    Parameters:\n",
    "    - y_true: array-like, true target values\n",
    "    - y_pred: array-like, predicted target values\n",
    "    - n_samples: int, number of samples (observations)\n",
    "    - n_features: int, number of features (predictors)\n",
    "\n",
    "    Returns:\n",
    "    - adjusted R-squared score\n",
    "    \"\"\"\n",
    "    from sklearn.metrics import r2_score\n",
    "\n",
    "    r_squared = r2_score(y_true, y_pred)\n",
    "    adjusted_r_squared = 1 - (1 - r_squared) * ((n_samples - 1) / (n_samples - n_features - 1))\n",
    "    \n",
    "    return adjusted_r_squared\n"
   ]
  },
  {
   "cell_type": "code",
   "execution_count": 39,
   "id": "b5635057",
   "metadata": {},
   "outputs": [],
   "source": [
    "model_results = {}\n",
    "def regression_matrix(model ,X_train,X_test,y_test, model_name):\n",
    "    print(\"Model Name \",model_name)\n",
    "    y_pred = model.predict(X_test)\n",
    "    train_r2_score=round(model.score(X_train,y_train),3)\n",
    "    print(\"train R2 Score:\",train_r2_score)\n",
    "    test_r2_score=round(model.score(X_test,y_test),3)\n",
    "    print(\"Test R2 Score:\",test_r2_score)\n",
    "    print(\"Test R2 score:\",r2_score(y_test,y_pred))\n",
    "    \n",
    "    mse = round(mean_squared_error(y_test,y_pred),3)\n",
    "    print(\"MSE:\",mse)\n",
    "    #rmse=round(root_mean_squared_error(y_test,y_pred),3)\n",
    "    rmse=np.sqrt(mse)\n",
    "    print(\"RMSE:\",rmse)\n",
    "    adj_r2_score=round(adjusted_r_squared(y_test,y_pred,len(y_test),X_train.shape[1]),3)\n",
    "    print(\"Adj-R Score\",adj_r2_score)\n",
    "    \n",
    "    if abs(train_r2_score - test_r2_score) > .10:\n",
    "        print(\"model :\" , model_name ,\"is overfitting\")\n",
    "    if train_r2_score < 0.50:\n",
    "        print(\"model :\" , model_name ,\"is underfitting\")\n",
    "    \n",
    "    model_results[model_name]=[train_r2_score,test_r2_score,adj_r2_score,mse,rmse]\n",
    "    "
   ]
  },
  {
   "cell_type": "markdown",
   "id": "08624250",
   "metadata": {},
   "source": [
    " ## Decision Tree Regression"
   ]
  },
  {
   "cell_type": "code",
   "execution_count": 40,
   "id": "85029df0",
   "metadata": {},
   "outputs": [
    {
     "name": "stdout",
     "output_type": "stream",
     "text": [
      "Model - Decision Tree Regression\n",
      "Model Name  DT\n",
      "train R2 Score: 0.41\n",
      "Test R2 Score: 0.438\n",
      "Test R2 score: 0.4384014062635796\n",
      "MSE: 6821.237\n",
      "RMSE: 82.59078035713188\n",
      "Adj-R Score 0.433\n",
      "model : DT is underfitting\n"
     ]
    }
   ],
   "source": [
    "# Create and fit the model\n",
    "model = DecisionTreeRegressor()\n",
    "model.fit(X_train,y_train)\n",
    "print(\"Model - Decision Tree Regression\")\n",
    "\n",
    "regression_matrix(model ,X_train,X_test,y_test, \"DT\")"
   ]
  },
  {
   "cell_type": "markdown",
   "id": "328599f8",
   "metadata": {},
   "source": [
    "## Random Forest Regression"
   ]
  },
  {
   "cell_type": "code",
   "execution_count": 41,
   "id": "70fc2c2e",
   "metadata": {},
   "outputs": [
    {
     "name": "stdout",
     "output_type": "stream",
     "text": [
      "Model - Random Forest Regression\n",
      "Model Name  RandomForest\n",
      "train R2 Score: 0.41\n",
      "Test R2 Score: 0.439\n",
      "Test R2 score: 0.43856305327629974\n",
      "MSE: 6819.273\n",
      "RMSE: 82.57888955417117\n",
      "Adj-R Score 0.433\n",
      "model : RandomForest is underfitting\n"
     ]
    }
   ],
   "source": [
    "# Create and fit the model\n",
    "model = RandomForestRegressor()\n",
    "model.fit(X_train, y_train)\n",
    "print(\"Model - Random Forest Regression\")\n",
    "\n",
    "regression_matrix(model ,X_train,X_test,y_test, \"RandomForest\")"
   ]
  },
  {
   "cell_type": "markdown",
   "id": "7e9222f8",
   "metadata": {},
   "source": [
    "## AdaBoost Regression"
   ]
  },
  {
   "cell_type": "code",
   "execution_count": 42,
   "id": "25b3240f",
   "metadata": {},
   "outputs": [
    {
     "name": "stdout",
     "output_type": "stream",
     "text": [
      "Model - AdaBoost Regression \n",
      "Model Name  AdaBoost\n",
      "train R2 Score: 0.364\n",
      "Test R2 Score: 0.385\n",
      "Test R2 score: 0.38528457231137303\n",
      "MSE: 7466.399\n",
      "RMSE: 86.40832714501538\n",
      "Adj-R Score 0.38\n",
      "model : AdaBoost is underfitting\n"
     ]
    }
   ],
   "source": [
    "# Create and fit the model\n",
    "ada_boost = AdaBoostRegressor()\n",
    "ada_boost.fit(X_train, y_train)\n",
    "print(\"Model - AdaBoost Regression \")\n",
    "\n",
    "regression_matrix(ada_boost ,X_train,X_test,y_test, \"AdaBoost\")"
   ]
  },
  {
   "cell_type": "markdown",
   "id": "a104d2c4",
   "metadata": {},
   "source": [
    "## Gradient Boosting Regression"
   ]
  },
  {
   "cell_type": "code",
   "execution_count": 43,
   "id": "2c12b13f",
   "metadata": {},
   "outputs": [
    {
     "name": "stdout",
     "output_type": "stream",
     "text": [
      "Model - Gradient Boosting Regression\n",
      "Model Name  GradientBoost\n",
      "train R2 Score: 0.408\n",
      "Test R2 Score: 0.436\n",
      "Test R2 score: 0.4362359792584193\n",
      "MSE: 6847.538\n",
      "RMSE: 82.7498519636138\n",
      "Adj-R Score 0.431\n",
      "model : GradientBoost is underfitting\n"
     ]
    }
   ],
   "source": [
    "# Create and fit the model\n",
    "gradient_boost = GradientBoostingRegressor()\n",
    "gradient_boost.fit(X_train, y_train)\n",
    "print(\"Model - Gradient Boosting Regression\")\n",
    "\n",
    "regression_matrix(gradient_boost ,X_train,X_test,y_test, \"GradientBoost\")"
   ]
  },
  {
   "cell_type": "markdown",
   "id": "4ae42961",
   "metadata": {},
   "source": [
    "##  XGBoost Regression"
   ]
  },
  {
   "cell_type": "code",
   "execution_count": 44,
   "id": "fcdb41c4",
   "metadata": {},
   "outputs": [
    {
     "name": "stdout",
     "output_type": "stream",
     "text": [
      "Model-XGBoost Regression\n",
      "Model Name  XGB\n",
      "train R2 Score: 0.41\n",
      "Test R2 Score: 0.438\n",
      "Test R2 score: 0.43840132964472756\n",
      "MSE: 6821.238\n",
      "RMSE: 82.59078641107615\n",
      "Adj-R Score 0.433\n",
      "model : XGB is underfitting\n"
     ]
    }
   ],
   "source": [
    "# Create and fit the model\n",
    "xg_boost = xgb.XGBRegressor()\n",
    "xg_boost.fit(X_train, y_train)\n",
    "print(\"Model-XGBoost Regression\")\n",
    "\n",
    "regression_matrix(xg_boost ,X_train,X_test,y_test, \"XGB\")"
   ]
  },
  {
   "cell_type": "markdown",
   "id": "f3e7fa2b",
   "metadata": {},
   "source": [
    "##  Summary"
   ]
  },
  {
   "cell_type": "code",
   "execution_count": 45,
   "id": "9564dc50",
   "metadata": {},
   "outputs": [
    {
     "name": "stdout",
     "output_type": "stream",
     "text": [
      "\n",
      "\n",
      "\n",
      "                  DT  RandomForest     AdaBoost  GradientBoost          XGB\n",
      "Train R2     0.41000       0.41000     0.364000       0.408000     0.410000\n",
      "Test R2      0.43800       0.43900     0.385000       0.436000     0.438000\n",
      "Adj R2       0.43300       0.43300     0.380000       0.431000     0.433000\n",
      "MSE       6821.23700    6819.27300  7466.399000    6847.538000  6821.238000\n",
      "RMSE        82.59078      82.57889    86.408327      82.749852    82.590786\n",
      "\n",
      "\n",
      "\n",
      "+----------+-------------------+-------------------+-------------------+------------------+-------------------+\n",
      "|          |        DT         |   RandomForest    |     AdaBoost      |  GradientBoost   |        XGB        |\n",
      "+----------+-------------------+-------------------+-------------------+------------------+-------------------+\n",
      "| Train R2 |       0.41        |       0.41        |       0.364       |      0.408       |       0.41        |\n",
      "| Test R2  |       0.438       |       0.439       |       0.385       |      0.436       |       0.438       |\n",
      "|  Adj R2  |       0.433       |       0.433       |       0.38        |      0.431       |       0.433       |\n",
      "|   MSE    |     6821.237      |     6819.273      |     7466.399      |     6847.538     |     6821.238      |\n",
      "|   RMSE   | 82.59078035713188 | 82.57888955417117 | 86.40832714501538 | 82.7498519636138 | 82.59078641107615 |\n",
      "+----------+-------------------+-------------------+-------------------+------------------+-------------------+\n"
     ]
    }
   ],
   "source": [
    "print(\"\\n\\n\")\n",
    "result=pd.DataFrame(model_results,index=[\"Train R2\",\"Test R2\" ,\"Adj R2\",\"MSE\",\"RMSE\"])\n",
    "print(result)\n",
    "print(\"\\n\\n\")\n",
    "\n",
    "print(tabulate(result, headers='keys', tablefmt='pretty'))"
   ]
  },
  {
   "cell_type": "code",
   "execution_count": null,
   "id": "38a14cb2",
   "metadata": {},
   "outputs": [],
   "source": []
  }
 ],
 "metadata": {
  "kernelspec": {
   "display_name": "Python 3 (ipykernel)",
   "language": "python",
   "name": "python3"
  },
  "language_info": {
   "codemirror_mode": {
    "name": "ipython",
    "version": 3
   },
   "file_extension": ".py",
   "mimetype": "text/x-python",
   "name": "python",
   "nbconvert_exporter": "python",
   "pygments_lexer": "ipython3",
   "version": "3.11.7"
  }
 },
 "nbformat": 4,
 "nbformat_minor": 5
}
