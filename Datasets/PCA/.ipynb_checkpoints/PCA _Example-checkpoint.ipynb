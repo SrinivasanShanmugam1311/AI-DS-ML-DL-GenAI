{
 "cells": [
  {
   "cell_type": "markdown",
   "id": "1ff46c2c",
   "metadata": {},
   "source": [
    "# PCA(Principal Component Analysis) on MNIST Dataset"
   ]
  },
  {
   "cell_type": "markdown",
   "id": "f5513da6",
   "metadata": {},
   "source": [
    "# 1. load Python Modules"
   ]
  },
  {
   "cell_type": "code",
   "execution_count": 28,
   "id": "8de6eca5",
   "metadata": {},
   "outputs": [],
   "source": [
    "import numpy as np\n",
    "import pandas as pd\n",
    "import matplotlib.pyplot as plt\n",
    "import seaborn as sns\n",
    "import warnings\n",
    "warnings.filterwarnings(\"ignore\")\n",
    "\n",
    "from sklearn.decomposition import PCA\n",
    "from sklearn.model_selection import train_test_split\n",
    "from sklearn.preprocessing import StandardScaler\n",
    "from sklearn.linear_model import LogisticRegression\n",
    "\n",
    "\n",
    "from sklearn.metrics import accuracy_score\n",
    "from sklearn.metrics import classification_report\n",
    "from sklearn.metrics import confusion_matrix"
   ]
  },
  {
   "cell_type": "markdown",
   "id": "3709dea2",
   "metadata": {},
   "source": [
    "# 2. Read the Dataset using Pandas"
   ]
  },
  {
   "cell_type": "code",
   "execution_count": 29,
   "id": "07c9ed93",
   "metadata": {
    "scrolled": false
   },
   "outputs": [
    {
     "name": "stdout",
     "output_type": "stream",
     "text": [
      "the shape of data is : (42000, 785)\n"
     ]
    },
    {
     "data": {
      "text/html": [
       "<div>\n",
       "<style scoped>\n",
       "    .dataframe tbody tr th:only-of-type {\n",
       "        vertical-align: middle;\n",
       "    }\n",
       "\n",
       "    .dataframe tbody tr th {\n",
       "        vertical-align: top;\n",
       "    }\n",
       "\n",
       "    .dataframe thead th {\n",
       "        text-align: right;\n",
       "    }\n",
       "</style>\n",
       "<table border=\"1\" class=\"dataframe\">\n",
       "  <thead>\n",
       "    <tr style=\"text-align: right;\">\n",
       "      <th></th>\n",
       "      <th>label</th>\n",
       "      <th>pixel0</th>\n",
       "      <th>pixel1</th>\n",
       "      <th>pixel2</th>\n",
       "      <th>pixel3</th>\n",
       "      <th>pixel4</th>\n",
       "      <th>pixel5</th>\n",
       "      <th>pixel6</th>\n",
       "      <th>pixel7</th>\n",
       "      <th>pixel8</th>\n",
       "      <th>...</th>\n",
       "      <th>pixel774</th>\n",
       "      <th>pixel775</th>\n",
       "      <th>pixel776</th>\n",
       "      <th>pixel777</th>\n",
       "      <th>pixel778</th>\n",
       "      <th>pixel779</th>\n",
       "      <th>pixel780</th>\n",
       "      <th>pixel781</th>\n",
       "      <th>pixel782</th>\n",
       "      <th>pixel783</th>\n",
       "    </tr>\n",
       "  </thead>\n",
       "  <tbody>\n",
       "    <tr>\n",
       "      <th>0</th>\n",
       "      <td>1</td>\n",
       "      <td>0</td>\n",
       "      <td>0</td>\n",
       "      <td>0</td>\n",
       "      <td>0</td>\n",
       "      <td>0</td>\n",
       "      <td>0</td>\n",
       "      <td>0</td>\n",
       "      <td>0</td>\n",
       "      <td>0</td>\n",
       "      <td>...</td>\n",
       "      <td>0</td>\n",
       "      <td>0</td>\n",
       "      <td>0</td>\n",
       "      <td>0</td>\n",
       "      <td>0</td>\n",
       "      <td>0</td>\n",
       "      <td>0</td>\n",
       "      <td>0</td>\n",
       "      <td>0</td>\n",
       "      <td>0</td>\n",
       "    </tr>\n",
       "    <tr>\n",
       "      <th>1</th>\n",
       "      <td>0</td>\n",
       "      <td>0</td>\n",
       "      <td>0</td>\n",
       "      <td>0</td>\n",
       "      <td>0</td>\n",
       "      <td>0</td>\n",
       "      <td>0</td>\n",
       "      <td>0</td>\n",
       "      <td>0</td>\n",
       "      <td>0</td>\n",
       "      <td>...</td>\n",
       "      <td>0</td>\n",
       "      <td>0</td>\n",
       "      <td>0</td>\n",
       "      <td>0</td>\n",
       "      <td>0</td>\n",
       "      <td>0</td>\n",
       "      <td>0</td>\n",
       "      <td>0</td>\n",
       "      <td>0</td>\n",
       "      <td>0</td>\n",
       "    </tr>\n",
       "    <tr>\n",
       "      <th>2</th>\n",
       "      <td>1</td>\n",
       "      <td>0</td>\n",
       "      <td>0</td>\n",
       "      <td>0</td>\n",
       "      <td>0</td>\n",
       "      <td>0</td>\n",
       "      <td>0</td>\n",
       "      <td>0</td>\n",
       "      <td>0</td>\n",
       "      <td>0</td>\n",
       "      <td>...</td>\n",
       "      <td>0</td>\n",
       "      <td>0</td>\n",
       "      <td>0</td>\n",
       "      <td>0</td>\n",
       "      <td>0</td>\n",
       "      <td>0</td>\n",
       "      <td>0</td>\n",
       "      <td>0</td>\n",
       "      <td>0</td>\n",
       "      <td>0</td>\n",
       "    </tr>\n",
       "    <tr>\n",
       "      <th>3</th>\n",
       "      <td>4</td>\n",
       "      <td>0</td>\n",
       "      <td>0</td>\n",
       "      <td>0</td>\n",
       "      <td>0</td>\n",
       "      <td>0</td>\n",
       "      <td>0</td>\n",
       "      <td>0</td>\n",
       "      <td>0</td>\n",
       "      <td>0</td>\n",
       "      <td>...</td>\n",
       "      <td>0</td>\n",
       "      <td>0</td>\n",
       "      <td>0</td>\n",
       "      <td>0</td>\n",
       "      <td>0</td>\n",
       "      <td>0</td>\n",
       "      <td>0</td>\n",
       "      <td>0</td>\n",
       "      <td>0</td>\n",
       "      <td>0</td>\n",
       "    </tr>\n",
       "    <tr>\n",
       "      <th>4</th>\n",
       "      <td>0</td>\n",
       "      <td>0</td>\n",
       "      <td>0</td>\n",
       "      <td>0</td>\n",
       "      <td>0</td>\n",
       "      <td>0</td>\n",
       "      <td>0</td>\n",
       "      <td>0</td>\n",
       "      <td>0</td>\n",
       "      <td>0</td>\n",
       "      <td>...</td>\n",
       "      <td>0</td>\n",
       "      <td>0</td>\n",
       "      <td>0</td>\n",
       "      <td>0</td>\n",
       "      <td>0</td>\n",
       "      <td>0</td>\n",
       "      <td>0</td>\n",
       "      <td>0</td>\n",
       "      <td>0</td>\n",
       "      <td>0</td>\n",
       "    </tr>\n",
       "  </tbody>\n",
       "</table>\n",
       "<p>5 rows × 785 columns</p>\n",
       "</div>"
      ],
      "text/plain": [
       "   label  pixel0  pixel1  pixel2  pixel3  pixel4  pixel5  pixel6  pixel7  \\\n",
       "0      1       0       0       0       0       0       0       0       0   \n",
       "1      0       0       0       0       0       0       0       0       0   \n",
       "2      1       0       0       0       0       0       0       0       0   \n",
       "3      4       0       0       0       0       0       0       0       0   \n",
       "4      0       0       0       0       0       0       0       0       0   \n",
       "\n",
       "   pixel8  ...  pixel774  pixel775  pixel776  pixel777  pixel778  pixel779  \\\n",
       "0       0  ...         0         0         0         0         0         0   \n",
       "1       0  ...         0         0         0         0         0         0   \n",
       "2       0  ...         0         0         0         0         0         0   \n",
       "3       0  ...         0         0         0         0         0         0   \n",
       "4       0  ...         0         0         0         0         0         0   \n",
       "\n",
       "   pixel780  pixel781  pixel782  pixel783  \n",
       "0         0         0         0         0  \n",
       "1         0         0         0         0  \n",
       "2         0         0         0         0  \n",
       "3         0         0         0         0  \n",
       "4         0         0         0         0  \n",
       "\n",
       "[5 rows x 785 columns]"
      ]
     },
     "execution_count": 29,
     "metadata": {},
     "output_type": "execute_result"
    }
   ],
   "source": [
    "df = pd.read_csv('mnist_train.csv')\n",
    "print(\"the shape of data is :\", df.shape)\n",
    "df.head()"
   ]
  },
  {
   "cell_type": "markdown",
   "id": "dea4793a",
   "metadata": {},
   "source": [
    "# 3. Load Image and Check"
   ]
  },
  {
   "cell_type": "code",
   "execution_count": 30,
   "id": "f097084b",
   "metadata": {},
   "outputs": [
    {
     "data": {
      "image/png": "[encoded data removed]",
      "text/plain": [
       "<Figure size 2000x500 with 1 Axes>"
      ]
     },
     "metadata": {},
     "output_type": "display_data"
    },
    {
     "name": "stdout",
     "output_type": "stream",
     "text": [
      "3\n"
     ]
    }
   ],
   "source": [
    "label = df['label']\n",
    "y = label\n",
    "df.drop('label', axis = 1, inplace = True)\n",
    "ind = np.random.randint(0, 42000)\n",
    "plt.figure(figsize = (20, 5))\n",
    "grid_data = np.array(df.iloc[ind]).reshape(28,28)\n",
    "plt.imshow(grid_data, interpolation = None, cmap = 'gray')\n",
    "plt.show()\n",
    "print(label[ind])"
   ]
  },
  {
   "cell_type": "code",
   "execution_count": 31,
   "id": "060b389e",
   "metadata": {},
   "outputs": [
    {
     "data": {
      "text/plain": [
       "Index(['pixel0', 'pixel1', 'pixel2', 'pixel3', 'pixel4', 'pixel5', 'pixel6',\n",
       "       'pixel7', 'pixel8', 'pixel9',\n",
       "       ...\n",
       "       'pixel774', 'pixel775', 'pixel776', 'pixel777', 'pixel778', 'pixel779',\n",
       "       'pixel780', 'pixel781', 'pixel782', 'pixel783'],\n",
       "      dtype='object', length=784)"
      ]
     },
     "execution_count": 31,
     "metadata": {},
     "output_type": "execute_result"
    }
   ],
   "source": [
    "df.columns"
   ]
  },
  {
   "cell_type": "markdown",
   "id": "b13a32b6",
   "metadata": {},
   "source": [
    "# StandardScaler"
   ]
  },
  {
   "cell_type": "code",
   "execution_count": 17,
   "id": "a857084b",
   "metadata": {},
   "outputs": [
    {
     "data": {
      "text/plain": [
       "array([[0., 0., 0., ..., 0., 0., 0.],\n",
       "       [0., 0., 0., ..., 0., 0., 0.],\n",
       "       [0., 0., 0., ..., 0., 0., 0.],\n",
       "       ...,\n",
       "       [0., 0., 0., ..., 0., 0., 0.],\n",
       "       [0., 0., 0., ..., 0., 0., 0.],\n",
       "       [0., 0., 0., ..., 0., 0., 0.]])"
      ]
     },
     "execution_count": 17,
     "metadata": {},
     "output_type": "execute_result"
    }
   ],
   "source": [
    "X=df\n",
    "scaler = StandardScaler()\n",
    "X_scaled = scaler.fit_transform(X)\n",
    "X_scaled"
   ]
  },
  {
   "cell_type": "markdown",
   "id": "fcea463f",
   "metadata": {},
   "source": [
    "# Use PCA to reduce dimensions"
   ]
  },
  {
   "cell_type": "code",
   "execution_count": 18,
   "id": "53c92948",
   "metadata": {},
   "outputs": [
    {
     "data": {
      "text/plain": [
       "(42000, 154)"
      ]
     },
     "execution_count": 18,
     "metadata": {},
     "output_type": "execute_result"
    }
   ],
   "source": [
    "pca = PCA(0.95)\n",
    "X_pca = pca.fit_transform(X)\n",
    "X_pca.shape"
   ]
  },
  {
   "cell_type": "code",
   "execution_count": 19,
   "id": "8daf6eed",
   "metadata": {},
   "outputs": [
    {
     "data": {
      "text/plain": [
       "array([0.09748938, 0.07160266, 0.06145903, 0.05379302, 0.04894262,\n",
       "       0.04303214, 0.03277051, 0.02892103, 0.02766902, 0.02348871,\n",
       "       0.02099325, 0.02059001, 0.01702553, 0.01692787, 0.01581126,\n",
       "       0.0148324 , 0.01319688, 0.01282727, 0.01187976, 0.01152755,\n",
       "       0.01072191, 0.01015199, 0.00964902, 0.00912846, 0.00887641,\n",
       "       0.00838766, 0.00811856, 0.00777406, 0.00740635, 0.00686661,\n",
       "       0.00657982, 0.00638799, 0.00599367, 0.00588913, 0.00564335,\n",
       "       0.00540967, 0.00509222, 0.00487505, 0.00475569, 0.00466545,\n",
       "       0.00452952, 0.00444989, 0.00418255, 0.00397506, 0.00384542,\n",
       "       0.00374919, 0.00361013, 0.00348522, 0.00336488, 0.00320738,\n",
       "       0.00315467, 0.00309146, 0.00293709, 0.00286541, 0.00280759,\n",
       "       0.00269618, 0.00265831, 0.00256299, 0.00253821, 0.00246178,\n",
       "       0.00239716, 0.0023874 , 0.00227591, 0.00221518, 0.00213934,\n",
       "       0.00206133, 0.00202851, 0.00195977, 0.00193639, 0.00188485,\n",
       "       0.00186751, 0.0018167 , 0.00176891, 0.00172592, 0.00166121,\n",
       "       0.0016331 , 0.00160601, 0.00154472, 0.0014685 , 0.00142376,\n",
       "       0.00141098, 0.00140228, 0.00138835, 0.00135417, 0.00132307,\n",
       "       0.0013078 , 0.00129674, 0.0012424 , 0.00122249, 0.00119624,\n",
       "       0.0011584 , 0.00113859, 0.00112263, 0.00110475, 0.00108133,\n",
       "       0.00107413, 0.00103866, 0.00103322, 0.00101495, 0.00099997,\n",
       "       0.00097482, 0.00094506, 0.00093864, 0.00091222, 0.00090731,\n",
       "       0.00088887, 0.0008637 , 0.00084423, 0.00083554, 0.00081665,\n",
       "       0.00078768, 0.00078156, 0.00077746, 0.00077193, 0.00075784,\n",
       "       0.00075022, 0.00073448, 0.00072577, 0.00071532, 0.00070032,\n",
       "       0.00069305, 0.00068574, 0.00067993, 0.00066572, 0.00065614,\n",
       "       0.0006448 , 0.00063539, 0.00062612, 0.00061851, 0.00060574,\n",
       "       0.00060385, 0.00059145, 0.0005859 , 0.00058463, 0.00057548,\n",
       "       0.00056972, 0.0005645 , 0.00055317, 0.00053434, 0.00052578,\n",
       "       0.00052197, 0.00051119, 0.00050514, 0.00049992, 0.00049532,\n",
       "       0.00049235, 0.0004844 , 0.00047669, 0.00047467, 0.00046789,\n",
       "       0.0004653 , 0.00046136, 0.00045634, 0.00045176])"
      ]
     },
     "execution_count": 19,
     "metadata": {},
     "output_type": "execute_result"
    }
   ],
   "source": [
    "pca.explained_variance_ratio_"
   ]
  },
  {
   "cell_type": "code",
   "execution_count": 20,
   "id": "57584867",
   "metadata": {},
   "outputs": [
    {
     "data": {
      "text/plain": [
       "154"
      ]
     },
     "execution_count": 20,
     "metadata": {},
     "output_type": "execute_result"
    }
   ],
   "source": [
    "pca.n_components_"
   ]
  },
  {
   "cell_type": "markdown",
   "id": "10548cdf",
   "metadata": {},
   "source": [
    "# Train Test Split"
   ]
  },
  {
   "cell_type": "code",
   "execution_count": 32,
   "id": "7b9d73ae",
   "metadata": {},
   "outputs": [],
   "source": [
    "X_train, X_test, y_train, y_test = train_test_split(X_pca, y, test_size=0.2, random_state=30)"
   ]
  },
  {
   "cell_type": "markdown",
   "id": "7cd4dec0",
   "metadata": {},
   "source": [
    "# Model - LogisticRegression"
   ]
  },
  {
   "cell_type": "code",
   "execution_count": 26,
   "id": "5183a1de",
   "metadata": {},
   "outputs": [
    {
     "data": {
      "text/plain": [
       "0.9189285714285714"
      ]
     },
     "execution_count": 26,
     "metadata": {},
     "output_type": "execute_result"
    }
   ],
   "source": [
    "lg_model = LogisticRegression(max_iter=1000)\n",
    "lg_model.fit(X_train, y_train)\n"
   ]
  },
  {
   "cell_type": "code",
   "execution_count": null,
   "id": "b1f9c333",
   "metadata": {},
   "outputs": [],
   "source": [
    "def draw_heatmap(conf_matrix):\n",
    "    sns.heatmap(conf_matrix, annot=True)\n",
    "    plt.xlabel('Predicted Labels')\n",
    "    plt.ylabel('Actual Labels')\n",
    "    plt.title('Confusion Matrix')\n",
    "    plt.show()"
   ]
  },
  {
   "cell_type": "code",
   "execution_count": null,
   "id": "3e614b55",
   "metadata": {},
   "outputs": [],
   "source": [
    "print(\"Model - Logistic Regression\")\n",
    "score = lg_model.score(X_train, y_train)\n",
    "print('accuracy train score overall :', score)\n",
    "\n",
    "score = lg_model.score(X_test, y_test)\n",
    "print('accuracy test score overall :', score)\n",
    "\n",
    "y_pred = lg_model.predict(X_test)\n",
    "print(classification_report(y_test, y_pred))\n",
    "print(confusion_matrix(y_test, y_pred))\n",
    "conf_matrix = confusion_matrix(y_test, y_pred)\n",
    "draw_heatmap(conf_matrix)"
   ]
  },
  {
   "cell_type": "code",
   "execution_count": null,
   "id": "2d470233",
   "metadata": {},
   "outputs": [],
   "source": []
  },
  {
   "cell_type": "code",
   "execution_count": null,
   "id": "3bf18f7c",
   "metadata": {},
   "outputs": [],
   "source": []
  }
 ],
 "metadata": {
  "kernelspec": {
   "display_name": "Python 3 (ipykernel)",
   "language": "python",
   "name": "python3"
  },
  "language_info": {
   "codemirror_mode": {
    "name": "ipython",
    "version": 3
   },
   "file_extension": ".py",
   "mimetype": "text/x-python",
   "name": "python",
   "nbconvert_exporter": "python",
   "pygments_lexer": "ipython3",
   "version": "3.11.5"
  }
 },
 "nbformat": 4,
 "nbformat_minor": 5
}
