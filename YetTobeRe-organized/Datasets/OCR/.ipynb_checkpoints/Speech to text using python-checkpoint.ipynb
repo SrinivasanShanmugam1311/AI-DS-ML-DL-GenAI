{
 "cells": [
  {
   "cell_type": "code",
   "execution_count": 1,
   "id": "b2ab8069",
   "metadata": {},
   "outputs": [
    {
     "name": "stdout",
     "output_type": "stream",
     "text": [
      "Collecting speechrecognition\n",
      "  Obtaining dependency information for speechrecognition from https://files.pythonhosted.org/packages/e6/28/b5e6e769002e46a5edef16871884721d4b68da31dbd4509db6ea50f8b224/SpeechRecognition-3.10.4-py2.py3-none-any.whl.metadata\n",
      "  Downloading SpeechRecognition-3.10.4-py2.py3-none-any.whl.metadata (28 kB)\n",
      "Requirement already satisfied: requests>=2.26.0 in c:\\users\\91956\\anaconda3\\lib\\site-packages (from speechrecognition) (2.31.0)\n",
      "Requirement already satisfied: typing-extensions in c:\\users\\91956\\anaconda3\\lib\\site-packages (from speechrecognition) (4.11.0)\n",
      "Requirement already satisfied: charset-normalizer<4,>=2 in c:\\users\\91956\\anaconda3\\lib\\site-packages (from requests>=2.26.0->speechrecognition) (2.0.4)\n",
      "Requirement already satisfied: idna<4,>=2.5 in c:\\users\\91956\\anaconda3\\lib\\site-packages (from requests>=2.26.0->speechrecognition) (3.4)\n",
      "Requirement already satisfied: urllib3<3,>=1.21.1 in c:\\users\\91956\\anaconda3\\lib\\site-packages (from requests>=2.26.0->speechrecognition) (1.26.16)\n",
      "Requirement already satisfied: certifi>=2017.4.17 in c:\\users\\91956\\anaconda3\\lib\\site-packages (from requests>=2.26.0->speechrecognition) (2023.7.22)\n",
      "Downloading SpeechRecognition-3.10.4-py2.py3-none-any.whl (32.8 MB)\n",
      "   ---------------------------------------- 0.0/32.8 MB ? eta -:--:--\n",
      "   ---------------------------------------- 0.1/32.8 MB 2.2 MB/s eta 0:00:15\n",
      "   ---------------------------------------- 0.2/32.8 MB 2.4 MB/s eta 0:00:14\n",
      "   ---------------------------------------- 0.4/32.8 MB 2.8 MB/s eta 0:00:12\n",
      "    --------------------------------------- 0.5/32.8 MB 2.6 MB/s eta 0:00:13\n",
      "    --------------------------------------- 0.6/32.8 MB 2.7 MB/s eta 0:00:12\n",
      "    --------------------------------------- 0.8/32.8 MB 2.8 MB/s eta 0:00:12\n",
      "   - -------------------------------------- 0.9/32.8 MB 3.0 MB/s eta 0:00:11\n",
      "   - -------------------------------------- 1.0/32.8 MB 2.8 MB/s eta 0:00:12\n",
      "   - -------------------------------------- 1.2/32.8 MB 3.0 MB/s eta 0:00:11\n",
      "   - -------------------------------------- 1.4/32.8 MB 3.0 MB/s eta 0:00:11\n",
      "   - -------------------------------------- 1.5/32.8 MB 3.0 MB/s eta 0:00:11\n",
      "   -- ------------------------------------- 1.7/32.8 MB 3.1 MB/s eta 0:00:11\n",
      "   -- ------------------------------------- 1.8/32.8 MB 3.0 MB/s eta 0:00:11\n",
      "   -- ------------------------------------- 1.9/32.8 MB 3.1 MB/s eta 0:00:11\n",
      "   -- ------------------------------------- 2.1/32.8 MB 3.0 MB/s eta 0:00:11\n",
      "   -- ------------------------------------- 2.2/32.8 MB 3.1 MB/s eta 0:00:10\n",
      "   -- ------------------------------------- 2.4/32.8 MB 3.0 MB/s eta 0:00:11\n",
      "   --- ------------------------------------ 2.6/32.8 MB 3.1 MB/s eta 0:00:10\n",
      "   --- ------------------------------------ 2.8/32.8 MB 3.2 MB/s eta 0:00:10\n",
      "   --- ------------------------------------ 2.9/32.8 MB 3.2 MB/s eta 0:00:10\n",
      "   --- ------------------------------------ 3.2/32.8 MB 3.3 MB/s eta 0:00:09\n",
      "   ---- ----------------------------------- 3.4/32.8 MB 3.3 MB/s eta 0:00:09\n",
      "   ---- ----------------------------------- 3.7/32.8 MB 3.5 MB/s eta 0:00:09\n",
      "   ---- ----------------------------------- 3.9/32.8 MB 3.5 MB/s eta 0:00:09\n",
      "   ----- ---------------------------------- 4.1/32.8 MB 3.6 MB/s eta 0:00:09\n",
      "   ----- ---------------------------------- 4.3/32.8 MB 3.6 MB/s eta 0:00:08\n",
      "   ----- ---------------------------------- 4.6/32.8 MB 3.7 MB/s eta 0:00:08\n",
      "   ----- ---------------------------------- 4.8/32.8 MB 3.7 MB/s eta 0:00:08\n",
      "   ------ --------------------------------- 5.0/32.8 MB 3.7 MB/s eta 0:00:08\n",
      "   ------ --------------------------------- 5.2/32.8 MB 3.7 MB/s eta 0:00:08\n",
      "   ------ --------------------------------- 5.4/32.8 MB 3.8 MB/s eta 0:00:08\n",
      "   ------ --------------------------------- 5.7/32.8 MB 3.9 MB/s eta 0:00:08\n",
      "   ------- -------------------------------- 6.0/32.8 MB 3.9 MB/s eta 0:00:07\n",
      "   ------- -------------------------------- 6.3/32.8 MB 4.0 MB/s eta 0:00:07\n",
      "   ------- -------------------------------- 6.6/32.8 MB 4.0 MB/s eta 0:00:07\n",
      "   -------- ------------------------------- 6.8/32.8 MB 4.0 MB/s eta 0:00:07\n",
      "   -------- ------------------------------- 7.0/32.8 MB 4.1 MB/s eta 0:00:07\n",
      "   -------- ------------------------------- 7.2/32.8 MB 4.1 MB/s eta 0:00:07\n",
      "   --------- ------------------------------ 7.5/32.8 MB 4.1 MB/s eta 0:00:07\n",
      "   --------- ------------------------------ 7.6/32.8 MB 4.1 MB/s eta 0:00:07\n",
      "   --------- ------------------------------ 7.9/32.8 MB 4.2 MB/s eta 0:00:07\n",
      "   --------- ------------------------------ 8.1/32.8 MB 4.2 MB/s eta 0:00:06\n",
      "   ---------- ----------------------------- 8.4/32.8 MB 4.2 MB/s eta 0:00:06\n",
      "   ---------- ----------------------------- 8.7/32.8 MB 4.3 MB/s eta 0:00:06\n",
      "   ---------- ----------------------------- 9.0/32.8 MB 4.3 MB/s eta 0:00:06\n",
      "   ----------- ---------------------------- 9.3/32.8 MB 4.3 MB/s eta 0:00:06\n",
      "   ----------- ---------------------------- 9.6/32.8 MB 4.4 MB/s eta 0:00:06\n",
      "   ------------ --------------------------- 9.9/32.8 MB 4.4 MB/s eta 0:00:06\n",
      "   ------------ --------------------------- 10.1/32.8 MB 4.4 MB/s eta 0:00:06\n",
      "   ------------ --------------------------- 10.4/32.8 MB 4.5 MB/s eta 0:00:05\n",
      "   ------------ --------------------------- 10.6/32.8 MB 4.5 MB/s eta 0:00:05\n",
      "   ------------- -------------------------- 10.8/32.8 MB 4.6 MB/s eta 0:00:05\n",
      "   ------------- -------------------------- 11.1/32.8 MB 4.7 MB/s eta 0:00:05\n",
      "   ------------- -------------------------- 11.3/32.8 MB 4.8 MB/s eta 0:00:05\n",
      "   -------------- ------------------------- 11.5/32.8 MB 4.9 MB/s eta 0:00:05\n",
      "   -------------- ------------------------- 11.8/32.8 MB 4.9 MB/s eta 0:00:05\n",
      "   -------------- ------------------------- 12.1/32.8 MB 5.0 MB/s eta 0:00:05\n",
      "   --------------- ------------------------ 12.3/32.8 MB 5.1 MB/s eta 0:00:05\n",
      "   --------------- ------------------------ 12.5/32.8 MB 5.2 MB/s eta 0:00:04\n",
      "   --------------- ------------------------ 12.7/32.8 MB 5.2 MB/s eta 0:00:04\n",
      "   --------------- ------------------------ 12.9/32.8 MB 5.1 MB/s eta 0:00:04\n",
      "   --------------- ------------------------ 13.1/32.8 MB 5.2 MB/s eta 0:00:04\n",
      "   ---------------- ----------------------- 13.4/32.8 MB 5.2 MB/s eta 0:00:04\n",
      "   ---------------- ----------------------- 13.6/32.8 MB 5.2 MB/s eta 0:00:04\n",
      "   ---------------- ----------------------- 14.0/32.8 MB 5.3 MB/s eta 0:00:04\n",
      "   ----------------- ---------------------- 14.2/32.8 MB 5.3 MB/s eta 0:00:04\n",
      "   ----------------- ---------------------- 14.5/32.8 MB 5.3 MB/s eta 0:00:04\n",
      "   ------------------ --------------------- 14.8/32.8 MB 5.4 MB/s eta 0:00:04\n",
      "   ------------------ --------------------- 15.1/32.8 MB 5.4 MB/s eta 0:00:04\n",
      "   ------------------ --------------------- 15.3/32.8 MB 5.5 MB/s eta 0:00:04\n",
      "   ------------------- -------------------- 15.6/32.8 MB 5.5 MB/s eta 0:00:04\n",
      "   ------------------- -------------------- 15.9/32.8 MB 5.5 MB/s eta 0:00:04\n",
      "   ------------------- -------------------- 16.2/32.8 MB 5.5 MB/s eta 0:00:04\n",
      "   ------------------- -------------------- 16.3/32.8 MB 5.5 MB/s eta 0:00:04\n",
      "   -------------------- ------------------- 16.6/32.8 MB 5.4 MB/s eta 0:00:04\n",
      "   -------------------- ------------------- 16.8/32.8 MB 5.4 MB/s eta 0:00:03\n",
      "   -------------------- ------------------- 17.2/32.8 MB 5.5 MB/s eta 0:00:03\n",
      "   --------------------- ------------------ 17.4/32.8 MB 5.5 MB/s eta 0:00:03\n",
      "   --------------------- ------------------ 17.7/32.8 MB 5.5 MB/s eta 0:00:03\n",
      "   --------------------- ------------------ 17.9/32.8 MB 5.5 MB/s eta 0:00:03\n",
      "   --------------------- ------------------ 18.1/32.8 MB 5.5 MB/s eta 0:00:03\n",
      "   ---------------------- ----------------- 18.4/32.8 MB 5.5 MB/s eta 0:00:03\n",
      "   ---------------------- ----------------- 18.7/32.8 MB 5.5 MB/s eta 0:00:03\n",
      "   ---------------------- ----------------- 18.9/32.8 MB 5.5 MB/s eta 0:00:03\n",
      "   ----------------------- ---------------- 19.1/32.8 MB 5.4 MB/s eta 0:00:03\n",
      "   ----------------------- ---------------- 19.3/32.8 MB 5.4 MB/s eta 0:00:03\n",
      "   ----------------------- ---------------- 19.6/32.8 MB 5.4 MB/s eta 0:00:03\n",
      "   ------------------------ --------------- 19.9/32.8 MB 5.4 MB/s eta 0:00:03\n",
      "   ------------------------ --------------- 20.2/32.8 MB 5.5 MB/s eta 0:00:03\n",
      "   ------------------------ --------------- 20.5/32.8 MB 5.5 MB/s eta 0:00:03\n",
      "   ------------------------- -------------- 20.8/32.8 MB 5.5 MB/s eta 0:00:03\n",
      "   ------------------------- -------------- 21.1/32.8 MB 5.6 MB/s eta 0:00:03\n",
      "   -------------------------- ------------- 21.4/32.8 MB 5.6 MB/s eta 0:00:03\n",
      "   -------------------------- ------------- 21.7/32.8 MB 5.6 MB/s eta 0:00:02\n",
      "   -------------------------- ------------- 22.0/32.8 MB 5.6 MB/s eta 0:00:02\n",
      "   --------------------------- ------------ 22.3/32.8 MB 5.6 MB/s eta 0:00:02\n",
      "   --------------------------- ------------ 22.5/32.8 MB 5.6 MB/s eta 0:00:02\n",
      "   --------------------------- ------------ 22.8/32.8 MB 5.7 MB/s eta 0:00:02\n",
      "   ---------------------------- ----------- 23.0/32.8 MB 5.7 MB/s eta 0:00:02\n",
      "   ---------------------------- ----------- 23.3/32.8 MB 5.8 MB/s eta 0:00:02\n",
      "   ---------------------------- ----------- 23.6/32.8 MB 5.8 MB/s eta 0:00:02\n",
      "   ----------------------------- ---------- 23.9/32.8 MB 5.8 MB/s eta 0:00:02\n",
      "   ----------------------------- ---------- 24.2/32.8 MB 5.8 MB/s eta 0:00:02\n",
      "   ----------------------------- ---------- 24.5/32.8 MB 5.8 MB/s eta 0:00:02\n",
      "   ------------------------------ --------- 24.6/32.8 MB 5.8 MB/s eta 0:00:02\n",
      "   ------------------------------ --------- 24.9/32.8 MB 5.7 MB/s eta 0:00:02\n",
      "   ------------------------------ --------- 25.1/32.8 MB 5.7 MB/s eta 0:00:02\n",
      "   ------------------------------ --------- 25.3/32.8 MB 5.7 MB/s eta 0:00:02\n",
      "   ------------------------------- -------- 25.6/32.8 MB 5.7 MB/s eta 0:00:02\n",
      "   ------------------------------- -------- 25.9/32.8 MB 5.7 MB/s eta 0:00:02\n",
      "   ------------------------------- -------- 26.2/32.8 MB 5.7 MB/s eta 0:00:02\n",
      "   -------------------------------- ------- 26.4/32.8 MB 5.6 MB/s eta 0:00:02\n",
      "   -------------------------------- ------- 26.7/32.8 MB 5.7 MB/s eta 0:00:02\n",
      "   -------------------------------- ------- 26.9/32.8 MB 5.7 MB/s eta 0:00:02\n",
      "   --------------------------------- ------ 27.1/32.8 MB 5.7 MB/s eta 0:00:02\n",
      "   --------------------------------- ------ 27.4/32.8 MB 5.6 MB/s eta 0:00:01\n",
      "   --------------------------------- ------ 27.7/32.8 MB 5.7 MB/s eta 0:00:01\n",
      "   --------------------------------- ------ 27.9/32.8 MB 5.6 MB/s eta 0:00:01\n",
      "   ---------------------------------- ----- 28.2/32.8 MB 5.7 MB/s eta 0:00:01\n",
      "   ---------------------------------- ----- 28.5/32.8 MB 5.7 MB/s eta 0:00:01\n",
      "   ---------------------------------- ----- 28.7/32.8 MB 5.7 MB/s eta 0:00:01\n",
      "   ----------------------------------- ---- 28.9/32.8 MB 5.7 MB/s eta 0:00:01\n",
      "   ----------------------------------- ---- 29.2/32.8 MB 5.7 MB/s eta 0:00:01\n",
      "   ----------------------------------- ---- 29.5/32.8 MB 5.7 MB/s eta 0:00:01\n",
      "   ------------------------------------ --- 29.8/32.8 MB 5.7 MB/s eta 0:00:01\n",
      "   ------------------------------------ --- 30.1/32.8 MB 5.8 MB/s eta 0:00:01\n",
      "   ------------------------------------- -- 30.5/32.8 MB 5.8 MB/s eta 0:00:01\n",
      "   ------------------------------------- -- 30.7/32.8 MB 5.8 MB/s eta 0:00:01\n",
      "   ------------------------------------- -- 31.0/32.8 MB 5.8 MB/s eta 0:00:01\n",
      "   -------------------------------------- - 31.3/32.8 MB 5.7 MB/s eta 0:00:01\n",
      "   -------------------------------------- - 31.6/32.8 MB 5.8 MB/s eta 0:00:01\n",
      "   -------------------------------------- - 31.8/32.8 MB 5.8 MB/s eta 0:00:01\n",
      "   ---------------------------------------  32.1/32.8 MB 5.7 MB/s eta 0:00:01\n",
      "   ---------------------------------------  32.3/32.8 MB 5.7 MB/s eta 0:00:01\n",
      "   ---------------------------------------  32.6/32.8 MB 5.6 MB/s eta 0:00:01\n",
      "   ---------------------------------------  32.8/32.8 MB 5.7 MB/s eta 0:00:01\n",
      "   ---------------------------------------  32.8/32.8 MB 5.7 MB/s eta 0:00:01\n",
      "   ---------------------------------------  32.8/32.8 MB 5.7 MB/s eta 0:00:01\n",
      "   ---------------------------------------  32.8/32.8 MB 5.7 MB/s eta 0:00:01\n",
      "   ---------------------------------------  32.8/32.8 MB 5.7 MB/s eta 0:00:01\n",
      "   ---------------------------------------  32.8/32.8 MB 5.7 MB/s eta 0:00:01\n",
      "   ---------------------------------------- 32.8/32.8 MB 4.9 MB/s eta 0:00:00\n",
      "Installing collected packages: speechrecognition\n",
      "Successfully installed speechrecognition-3.10.4\n"
     ]
    },
    {
     "name": "stderr",
     "output_type": "stream",
     "text": [
      "DEPRECATION: Loading egg at c:\\users\\91956\\anaconda3\\lib\\site-packages\\gscraper-0.0.1-py3.11.egg is deprecated. pip 23.3 will enforce this behaviour change. A possible replacement is to use pip for package installation..\n"
     ]
    },
    {
     "name": "stdout",
     "output_type": "stream",
     "text": [
      "Requirement already satisfied: SpeechRecognition in c:\\users\\91956\\anaconda3\\lib\\site-packages (3.10.4)\n",
      "Requirement already satisfied: requests>=2.26.0 in c:\\users\\91956\\anaconda3\\lib\\site-packages (from SpeechRecognition) (2.31.0)\n",
      "Requirement already satisfied: typing-extensions in c:\\users\\91956\\anaconda3\\lib\\site-packages (from SpeechRecognition) (4.11.0)\n",
      "Requirement already satisfied: charset-normalizer<4,>=2 in c:\\users\\91956\\anaconda3\\lib\\site-packages (from requests>=2.26.0->SpeechRecognition) (2.0.4)\n",
      "Requirement already satisfied: idna<4,>=2.5 in c:\\users\\91956\\anaconda3\\lib\\site-packages (from requests>=2.26.0->SpeechRecognition) (3.4)\n",
      "Requirement already satisfied: urllib3<3,>=1.21.1 in c:\\users\\91956\\anaconda3\\lib\\site-packages (from requests>=2.26.0->SpeechRecognition) (1.26.16)\n",
      "Requirement already satisfied: certifi>=2017.4.17 in c:\\users\\91956\\anaconda3\\lib\\site-packages (from requests>=2.26.0->SpeechRecognition) (2023.7.22)\n"
     ]
    },
    {
     "name": "stderr",
     "output_type": "stream",
     "text": [
      "DEPRECATION: Loading egg at c:\\users\\91956\\anaconda3\\lib\\site-packages\\gscraper-0.0.1-py3.11.egg is deprecated. pip 23.3 will enforce this behaviour change. A possible replacement is to use pip for package installation..\n"
     ]
    },
    {
     "name": "stdout",
     "output_type": "stream",
     "text": [
      "Collecting pyaudio\n",
      "  Obtaining dependency information for pyaudio from https://files.pythonhosted.org/packages/82/d8/f043c854aad450a76e476b0cf9cda1956419e1dacf1062eb9df3c0055abe/PyAudio-0.2.14-cp311-cp311-win_amd64.whl.metadata\n",
      "  Downloading PyAudio-0.2.14-cp311-cp311-win_amd64.whl.metadata (2.7 kB)\n",
      "Downloading PyAudio-0.2.14-cp311-cp311-win_amd64.whl (164 kB)\n",
      "   ---------------------------------------- 0.0/164.1 kB ? eta -:--:--\n",
      "   ------- ------------------------------- 30.7/164.1 kB 660.6 kB/s eta 0:00:01\n",
      "   --------------------------- ------------ 112.6/164.1 kB 1.3 MB/s eta 0:00:01\n",
      "   ---------------------------------------- 164.1/164.1 kB 1.6 MB/s eta 0:00:00\n",
      "Installing collected packages: pyaudio\n",
      "Successfully installed pyaudio-0.2.14\n"
     ]
    },
    {
     "name": "stderr",
     "output_type": "stream",
     "text": [
      "DEPRECATION: Loading egg at c:\\users\\91956\\anaconda3\\lib\\site-packages\\gscraper-0.0.1-py3.11.egg is deprecated. pip 23.3 will enforce this behaviour change. A possible replacement is to use pip for package installation..\n"
     ]
    },
    {
     "name": "stdout",
     "output_type": "stream",
     "text": [
      "Requirement already satisfied: pyttsx3 in c:\\users\\91956\\anaconda3\\lib\\site-packages (2.90)\n",
      "Requirement already satisfied: comtypes in c:\\users\\91956\\anaconda3\\lib\\site-packages (from pyttsx3) (1.4.1)\n",
      "Requirement already satisfied: pypiwin32 in c:\\users\\91956\\anaconda3\\lib\\site-packages (from pyttsx3) (223)\n",
      "Requirement already satisfied: pywin32 in c:\\users\\91956\\anaconda3\\lib\\site-packages (from pyttsx3) (305.1)\n"
     ]
    },
    {
     "name": "stderr",
     "output_type": "stream",
     "text": [
      "DEPRECATION: Loading egg at c:\\users\\91956\\anaconda3\\lib\\site-packages\\gscraper-0.0.1-py3.11.egg is deprecated. pip 23.3 will enforce this behaviour change. A possible replacement is to use pip for package installation..\n"
     ]
    }
   ],
   "source": [
    "!pip install speechrecognition\n",
    "!pip install SpeechRecognition\n",
    "!pip install pyaudio\n",
    "!pip install pyttsx3"
   ]
  },
  {
   "cell_type": "markdown",
   "id": "037f0096",
   "metadata": {},
   "source": [
    "**Speech to text**"
   ]
  },
  {
   "cell_type": "code",
   "execution_count": 2,
   "id": "7535d833",
   "metadata": {},
   "outputs": [],
   "source": [
    "import speech_recognition as sr\n",
    "import pyttsx3"
   ]
  },
  {
   "cell_type": "code",
   "execution_count": 3,
   "id": "769ba941",
   "metadata": {},
   "outputs": [
    {
     "data": {
      "text/plain": [
       "<speech_recognition.Recognizer at 0x2dcba98fe50>"
      ]
     },
     "execution_count": 3,
     "metadata": {},
     "output_type": "execute_result"
    }
   ],
   "source": [
    "r = sr.Recognizer() \n",
    "r"
   ]
  },
  {
   "cell_type": "code",
   "execution_count": 6,
   "id": "ee7fe2a4",
   "metadata": {},
   "outputs": [
    {
     "name": "stdout",
     "output_type": "stream",
     "text": [
      "Did you say  it is too late wear in a classroom we are in a classroom\n"
     ]
    }
   ],
   "source": [
    "engine = pyttsx3.init()\n",
    "#engine.say(command) \n",
    "engine.runAndWait()\n",
    "\n",
    "# use the microphone as source for input.\n",
    "with sr.Microphone() as source2:\n",
    "    r.adjust_for_ambient_noise(source2, duration=0.2)\n",
    "    audio2 = r.listen(source2)\n",
    "    MyText = r.recognize_google(audio2)\n",
    "    MyText = MyText.lower()\n",
    " \n",
    "    print(\"Did you say \",MyText)\n",
    "            "
   ]
  },
  {
   "cell_type": "markdown",
   "id": "fe88ceae",
   "metadata": {},
   "source": [
    "**Text to speech**"
   ]
  },
  {
   "cell_type": "code",
   "execution_count": 7,
   "id": "2e270ee3",
   "metadata": {},
   "outputs": [],
   "source": [
    "# importing the pyttsx library \n",
    "import pyttsx3 \n",
    "\n",
    "# initialisation \n",
    "engine = pyttsx3.init() \n",
    "\n",
    "# testing \n",
    "engine.say(\"My first code on text-to-speech\") \n",
    "engine.say(\"Thank you, Omkar\") \n",
    "engine.runAndWait() \n"
   ]
  },
  {
   "cell_type": "code",
   "execution_count": 8,
   "id": "863c43ac",
   "metadata": {},
   "outputs": [
    {
     "data": {
      "text/plain": [
       "'C:\\\\Users\\\\91956\\\\OneDrive\\\\DATA-SCIENCE-NARESHIT-OMKAR\\\\GITHUB\\\\re-arrange\\\\full-stack-data-science\\\\OCR'"
      ]
     },
     "execution_count": 8,
     "metadata": {},
     "output_type": "execute_result"
    }
   ],
   "source": [
    "import os\n",
    "os.getcwd()"
   ]
  },
  {
   "cell_type": "code",
   "execution_count": null,
   "id": "f6f15b9a",
   "metadata": {},
   "outputs": [],
   "source": []
  }
 ],
 "metadata": {
  "kernelspec": {
   "display_name": "Python 3 (ipykernel)",
   "language": "python",
   "name": "python3"
  },
  "language_info": {
   "codemirror_mode": {
    "name": "ipython",
    "version": 3
   },
   "file_extension": ".py",
   "mimetype": "text/x-python",
   "name": "python",
   "nbconvert_exporter": "python",
   "pygments_lexer": "ipython3",
   "version": "3.11.5"
  }
 },
 "nbformat": 4,
 "nbformat_minor": 5
}
